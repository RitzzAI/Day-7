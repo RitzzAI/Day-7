{
 "cells": [
  {
   "cell_type": "markdown",
   "id": "f8a5ff52-d858-4a98-8b7b-1490b28939e7",
   "metadata": {},
   "source": [
    "# Day 7 Plan – \"The Power of Pandas: Grouping, Missing Values & Merging\""
   ]
  },
  {
   "cell_type": "code",
   "execution_count": null,
   "id": "a072583c-71e6-4d4f-8e69-f36f43969879",
   "metadata": {},
   "outputs": [],
   "source": []
  },
  {
   "cell_type": "code",
   "execution_count": 1,
   "id": "86dee9e9-2cdd-48c2-87af-73712d3d489f",
   "metadata": {},
   "outputs": [
    {
     "name": "stdout",
     "output_type": "stream",
     "text": [
      "Car(name=Toyota, model=Corolla, year=2020)\n",
      "Car(name=Honda, model=Civic, year=2019)\n",
      "Car(name=Ford, model=Mustang, year=2021)\n",
      "Car(name=Chevrolet, model=Camaro, year=2022)\n",
      "Car(name=Nissan, model=Altima, year=2018)\n",
      "Car(name=Hyundai, model=Elantra, year=2020)\n",
      "Car(name=Kia, model=Optima, year=2019)\n",
      "Car(name=Volkswagen, model=Jetta, year=2021)\n",
      "Car(name=Subaru, model=Impreza, year=2020)\n",
      "Car(name=Mazda, model=3, year=2022)\n"
     ]
    }
   ],
   "source": [
    "class Car:\n",
    "    def __init__(self, name, model, year):\n",
    "        self.name = name\n",
    "        self.model = model\n",
    "        self.year = year\n",
    "\n",
    "    def __repr__(self):\n",
    "        return f\"Car(name={self.name}, model={self.model}, year={self.year})\"\n",
    "car1 = Car(\"Toyota\", \"Corolla\", 2020)\n",
    "car2 = Car(\"Honda\", \"Civic\", 2019)\n",
    "car3 = Car(\"Ford\", \"Mustang\", 2021)\n",
    "car4 = Car(\"Chevrolet\", \"Camaro\", 2022)\n",
    "car5 = Car(\"Nissan\", \"Altima\", 2018)\n",
    "car6 = Car(\"Hyundai\", \"Elantra\", 2020)\n",
    "car7 = Car(\"Kia\", \"Optima\", 2019)\n",
    "car8 = Car(\"Volkswagen\", \"Jetta\", 2021)\n",
    "car9 = Car(\"Subaru\", \"Impreza\", 2020)\n",
    "car10 = Car(\"Mazda\", \"3\", 2022)\n",
    "car_list = [car1, car2, car3, car4, car5, car6, car7, car8, car9, car10]\n",
    "for car in car_list:\n",
    "    print(car)"
   ]
  },
  {
   "cell_type": "code",
   "execution_count": null,
   "id": "a30c7f68-3671-4322-9929-7322dd9dfefb",
   "metadata": {},
   "outputs": [],
   "source": []
  },
  {
   "cell_type": "markdown",
   "id": "89b6c892-5c42-4b0b-9dbb-6b199f1658a0",
   "metadata": {},
   "source": [
    "#  Pandas Section"
   ]
  },
  {
   "cell_type": "code",
   "execution_count": 2,
   "id": "fbf83b5d-9cc8-44f0-bd94-635f8ea30665",
   "metadata": {},
   "outputs": [
    {
     "name": "stdout",
     "output_type": "stream",
     "text": [
      "         Name    Model  Year\n",
      "0      Toyota  Corolla  2020\n",
      "1       Honda    Civic  2019\n",
      "2        Ford  Mustang  2021\n",
      "3   Chevrolet   Camaro  2022\n",
      "4      Nissan   Altima  2018\n",
      "5     Hyundai  Elantra  2020\n",
      "6         Kia   Optima  2019\n",
      "7  Volkswagen    Jetta  2021\n",
      "8      Subaru  Impreza  2020\n",
      "9       Mazda        3  2022\n",
      "         Name    Model  Year\n",
      "0      Toyota  Corolla  2020\n",
      "1       Honda    Civic  2019\n",
      "2        Ford  Mustang  2021\n",
      "3   Chevrolet   Camaro  2022\n",
      "4      Nissan   Altima  2018\n",
      "5     Hyundai  Elantra  2020\n",
      "6         Kia   Optima  2019\n",
      "7  Volkswagen    Jetta  2021\n",
      "8      Subaru  Impreza  2020\n",
      "9       Mazda        3  2022\n",
      "         Name    Model  Year\n",
      "0      Toyota  Corolla  2020\n",
      "1       Honda    Civic  2019\n",
      "2        Ford  Mustang  2021\n",
      "3   Chevrolet   Camaro  2022\n",
      "4      Nissan   Altima  2018\n",
      "5     Hyundai  Elantra  2020\n",
      "6         Kia   Optima  2019\n",
      "7  Volkswagen    Jetta  2021\n",
      "8      Subaru  Impreza  2020\n",
      "9       Mazda        3  2022\n"
     ]
    }
   ],
   "source": [
    "import pandas as pd\n",
    "car_data = {\n",
    "    \"Name\": [\"Toyota\", \"Honda\", \"Ford\", \"Chevrolet\", \"Nissan\", \"Hyundai\", \"Kia\", \"Volkswagen\", \"Subaru\", \"Mazda\"],\n",
    "    \"Model\": [\"Corolla\", \"Civic\", \"Mustang\", \"Camaro\", \"Altima\", \"Elantra\", \"Optima\", \"Jetta\", \"Impreza\", \"3\"],\n",
    "    \"Year\": [2020, 2019, 2021, 2022, 2018, 2020, 2019, 2021, 2020, 2022]\n",
    "}   \n",
    "car_df = pd.DataFrame(car_data)\n",
    "print(car_df)   \n",
    "car_df.to_csv(\"car_data.csv\", index=False)\n",
    "car_df = pd.read_csv(\"car_data.csv\")\n",
    "print(car_df)\n",
    "car_df.to_excel(\"car_data.xlsx\", index=False)\n",
    "car_df = pd.read_excel(\"car_data.xlsx\")\n",
    "print(car_df)"
   ]
  },
  {
   "cell_type": "code",
   "execution_count": 4,
   "id": "a3121572-370e-48f3-a827-14d5922b4987",
   "metadata": {},
   "outputs": [
    {
     "name": "stdout",
     "output_type": "stream",
     "text": [
      "       Name     Model      Year\n",
      "0    Toyota   Corolla      2020\n",
      "1     Honda     Civic      2019\n",
      "2      Ford   Mustang      2021\n",
      "3  Ellipsis  Ellipsis  Ellipsis\n",
      "Name     object\n",
      "Model    object\n",
      "Year     object\n",
      "dtype: object\n",
      "       Name     Model      Year\n",
      "1     Honda     Civic      2019\n",
      "0    Toyota   Corolla      2020\n",
      "2      Ford   Mustang      2021\n",
      "3  Ellipsis  Ellipsis  Ellipsis\n"
     ]
    }
   ],
   "source": [
    "car_data = {\n",
    "    \"Name\": [\"Toyota\", \"Honda\", \"Ford\", ...],\n",
    "    \"Model\": [\"Corolla\", \"Civic\", \"Mustang\", ...],\n",
    "    \"Year\": [2020, 2019, 2021, ...]\n",
    "}\n",
    "car_df = pd.DataFrame(car_data)\n",
    "print(car_df)\n",
    "\n",
    "car_df.to_csv(\"car_data.csv\", index=False)\n",
    "car_df = pd.read_csv(\"car_data.csv\")\n",
    "print(car_df.dtypes)\n",
    "print(car_df.sort_values(\"Year\"))\n"
   ]
  },
  {
   "cell_type": "code",
   "execution_count": null,
   "id": "ce5c5fa4-a74d-444d-b401-2c0f6695efdf",
   "metadata": {},
   "outputs": [],
   "source": []
  },
  {
   "cell_type": "markdown",
   "id": "33cda590-98fc-4210-874b-c04e853cd17e",
   "metadata": {},
   "source": [
    "# Group by Year (Most recent cars)"
   ]
  },
  {
   "cell_type": "code",
   "execution_count": 5,
   "id": "eb14e341-432a-4bc8-ab2a-56e5fa64cd67",
   "metadata": {},
   "outputs": [
    {
     "name": "stdout",
     "output_type": "stream",
     "text": [
      "          Name  Model\n",
      "Year                 \n",
      "2019         1      1\n",
      "2020         1      1\n",
      "2021         1      1\n",
      "Ellipsis     1      1\n"
     ]
    }
   ],
   "source": [
    "grouped = car_df.groupby(\"Year\").count()\n",
    "print(grouped)\n"
   ]
  },
  {
   "cell_type": "code",
   "execution_count": null,
   "id": "f640ed20-12fd-488e-bad6-c82fdc03f75e",
   "metadata": {},
   "outputs": [],
   "source": []
  },
  {
   "cell_type": "markdown",
   "id": "65b92215-036d-4318-a79b-145324816069",
   "metadata": {},
   "source": [
    " # Missing Values (for practice):"
   ]
  },
  {
   "cell_type": "code",
   "execution_count": 6,
   "id": "eccd2c43-5ef9-4efe-8573-9f0e689c2980",
   "metadata": {},
   "outputs": [
    {
     "name": "stdout",
     "output_type": "stream",
     "text": [
      "Name     0\n",
      "Model    1\n",
      "Year     0\n",
      "dtype: int64\n"
     ]
    }
   ],
   "source": [
    "car_df.loc[2, \"Model\"] = None  # Set Mustang model as missing\n",
    "print(car_df.isnull().sum())"
   ]
  },
  {
   "cell_type": "markdown",
   "id": "6d032936-8c29-4ad0-a224-2d7d5ccd6995",
   "metadata": {},
   "source": []
  },
  {
   "cell_type": "markdown",
   "id": "e6cb240d-d34d-4adf-8c83-8bcbefb3c6dc",
   "metadata": {},
   "source": [
    "# Mergeing with another DataFrame (Advanced):"
   ]
  },
  {
   "cell_type": "code",
   "execution_count": 7,
   "id": "3a3695cf-fbe4-4baa-bcb4-d8bc6a2f2b23",
   "metadata": {},
   "outputs": [
    {
     "name": "stdout",
     "output_type": "stream",
     "text": [
      "       Name     Model      Year Country\n",
      "0    Toyota   Corolla      2020   Japan\n",
      "1     Honda     Civic      2019   Japan\n",
      "2      Ford      None      2021     USA\n",
      "3  Ellipsis  Ellipsis  Ellipsis     NaN\n"
     ]
    }
   ],
   "source": [
    "extra_data = pd.DataFrame({\n",
    "    \"Name\": [\"Toyota\", \"Honda\", \"Ford\"],\n",
    "    \"Country\": [\"Japan\", \"Japan\", \"USA\"]\n",
    "})\n",
    "merged_df = pd.merge(car_df, extra_data, on=\"Name\", how=\"left\")\n",
    "print(merged_df)\n"
   ]
  },
  {
   "cell_type": "code",
   "execution_count": null,
   "id": "6dac73ac-a3bc-4df6-986b-eb3c8d409203",
   "metadata": {},
   "outputs": [],
   "source": []
  },
  {
   "cell_type": "code",
   "execution_count": null,
   "id": "ba81beb6-64a5-45fa-b3bc-6c99c12c5264",
   "metadata": {},
   "outputs": [],
   "source": []
  },
  {
   "cell_type": "markdown",
   "id": "2be1d40a-6885-4e8a-8588-363fdba55439",
   "metadata": {},
   "source": [
    "# Summary of What You've Done Today:\n",
    "\n",
    "✔️ Practiced Object-Oriented Programming (class Car)\n",
    "\n",
    "✔️ Created a Pandas DataFrame from objects\n",
    "\n",
    "✔️ Saved and loaded data using .to_csv() and read_csv()\n",
    "\n",
    "✔️ Practiced groupby(), isnull(), and merge() operations\n",
    "\n",
    "✔️ Used real-world-like car data, which is great practice"
   ]
  },
  {
   "cell_type": "code",
   "execution_count": null,
   "id": "f0a9b444-79be-4aad-9ab3-40a24efbb62b",
   "metadata": {},
   "outputs": [],
   "source": []
  }
 ],
 "metadata": {
  "kernelspec": {
   "display_name": "Python 3 (ipykernel)",
   "language": "python",
   "name": "python3"
  },
  "language_info": {
   "codemirror_mode": {
    "name": "ipython",
    "version": 3
   },
   "file_extension": ".py",
   "mimetype": "text/x-python",
   "name": "python",
   "nbconvert_exporter": "python",
   "pygments_lexer": "ipython3",
   "version": "3.12.7"
  }
 },
 "nbformat": 4,
 "nbformat_minor": 5
}
